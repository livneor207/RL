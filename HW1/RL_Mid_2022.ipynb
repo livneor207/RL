{
 "cells": [
  {
   "cell_type": "markdown",
   "metadata": {
    "id": "QBKobbdiT6F0"
   },
   "source": [
    "# Goodluck!"
   ]
  },
  {
   "cell_type": "markdown",
   "metadata": {
    "id": "XXqIDAd1SeMX"
   },
   "source": [
    "# Mid-semester assignment - reinforcements learning \n",
    "Hello dear students,<br> this is the template notebook. Please click on the \"File\" tab and then on \"Save a copy into drive\".\n",
    "\n",
    "---\n",
    "<br>\n",
    "\n",
    "### Name and ID:\n",
    "Student 1 Name: Or Livne, ID: 203972922\n",
    "<br>\n",
    "Student 2:Name: Oz Sharlin , ID: 200705754"
   ]
  },
  {
   "cell_type": "markdown",
   "metadata": {
    "id": "VH9ZX_RT8eFo"
   },
   "source": [
    "## Installs"
   ]
  },
  {
   "cell_type": "code",
   "execution_count": 1,
   "metadata": {
    "colab": {
     "base_uri": "https://localhost:8080/"
    },
    "id": "xuJdLI_YPAvD",
    "outputId": "f057c744-1a1a-4b37-9f9b-9622821bf996"
   },
   "outputs": [
    {
     "name": "stdout",
     "output_type": "stream",
     "text": [
      "Collecting gym\n",
      "  Downloading gym-0.23.1.tar.gz (626 kB)\n",
      "  Installing build dependencies: started\n",
      "  Installing build dependencies: finished with status 'done'\n",
      "  Getting requirements to build wheel: started\n",
      "  Getting requirements to build wheel: finished with status 'done'\n",
      "    Preparing wheel metadata: started\n",
      "    Preparing wheel metadata: finished with status 'done'\n",
      "Requirement already satisfied: cloudpickle>=1.2.0 in c:\\users\\orlivne\\anaconda3\\lib\\site-packages (from gym) (2.0.0)\n",
      "Collecting gym-notices>=0.0.4\n",
      "  Downloading gym_notices-0.0.6-py3-none-any.whl (2.7 kB)\n",
      "Requirement already satisfied: numpy>=1.18.0 in c:\\users\\orlivne\\anaconda3\\lib\\site-packages (from gym) (1.20.3)\n",
      "Collecting importlib-metadata>=4.10.0\n",
      "  Downloading importlib_metadata-4.11.3-py3-none-any.whl (18 kB)\n",
      "Requirement already satisfied: zipp>=0.5 in c:\\users\\orlivne\\anaconda3\\lib\\site-packages (from importlib-metadata>=4.10.0->gym) (3.6.0)\n",
      "Building wheels for collected packages: gym\n",
      "  Building wheel for gym (PEP 517): started\n",
      "  Building wheel for gym (PEP 517): finished with status 'done'\n",
      "  Created wheel for gym: filename=gym-0.23.1-py3-none-any.whl size=701376 sha256=a46c05498382a69ed4452f7b9adc5ecebe03ea9086f67dedcd248af42025627f\n",
      "  Stored in directory: c:\\users\\orlivne\\appdata\\local\\pip\\cache\\wheels\\4e\\be\\7e\\92a54668db96883e38ce60a9249dc55de7cd6eee49e7311940\n",
      "Successfully built gym\n",
      "Installing collected packages: importlib-metadata, gym-notices, gym\n",
      "  Attempting uninstall: importlib-metadata\n",
      "    Found existing installation: importlib-metadata 4.8.1\n",
      "    Uninstalling importlib-metadata-4.8.1:\n",
      "      Successfully uninstalled importlib-metadata-4.8.1\n",
      "Successfully installed gym-0.23.1 gym-notices-0.0.6 importlib-metadata-4.11.3\n",
      "Collecting pygame\n",
      "  Downloading pygame-2.1.2-cp39-cp39-win_amd64.whl (8.4 MB)\n",
      "Installing collected packages: pygame\n",
      "Successfully installed pygame-2.1.2\n"
     ]
    },
    {
     "name": "stderr",
     "output_type": "stream",
     "text": [
      "'apt-get' is not recognized as an internal or external command,\n",
      "operable program or batch file.\n",
      "'apt' is not recognized as an internal or external command,\n",
      "operable program or batch file.\n"
     ]
    },
    {
     "name": "stdout",
     "output_type": "stream",
     "text": [
      "Collecting pyvirtualdisplay\n",
      "  Downloading PyVirtualDisplay-3.0-py3-none-any.whl (15 kB)\n",
      "Installing collected packages: pyvirtualdisplay\n",
      "Successfully installed pyvirtualdisplay-3.0\n",
      "Collecting piglet\n",
      "  Downloading piglet-1.0.0-py2.py3-none-any.whl (2.2 kB)\n",
      "Collecting piglet-templates\n",
      "  Downloading piglet_templates-1.2.0-py3-none-any.whl (67 kB)\n",
      "Requirement already satisfied: markupsafe in c:\\users\\orlivne\\anaconda3\\lib\\site-packages (from piglet-templates->piglet) (1.1.1)\n",
      "Requirement already satisfied: attrs in c:\\users\\orlivne\\anaconda3\\lib\\site-packages (from piglet-templates->piglet) (21.2.0)\n",
      "Collecting astunparse\n",
      "  Downloading astunparse-1.6.3-py2.py3-none-any.whl (12 kB)\n",
      "Requirement already satisfied: pyparsing in c:\\users\\orlivne\\anaconda3\\lib\\site-packages (from piglet-templates->piglet) (3.0.4)\n",
      "Requirement already satisfied: wheel<1.0,>=0.23.0 in c:\\users\\orlivne\\anaconda3\\lib\\site-packages (from astunparse->piglet-templates->piglet) (0.37.0)\n",
      "Requirement already satisfied: six<2.0,>=1.6.1 in c:\\users\\orlivne\\anaconda3\\lib\\site-packages (from astunparse->piglet-templates->piglet) (1.16.0)\n",
      "Installing collected packages: astunparse, piglet-templates, piglet\n",
      "Successfully installed astunparse-1.6.3 piglet-1.0.0 piglet-templates-1.2.0\n"
     ]
    }
   ],
   "source": [
    "!pip install gym\n",
    "!pip install pygame\n",
    "!apt-get install python-opengl -y\n",
    "!apt install xvfb -y\n",
    "!pip install pyvirtualdisplay\n",
    "!pip install piglet"
   ]
  },
  {
   "cell_type": "markdown",
   "metadata": {
    "id": "18TKb2kW6MKc"
   },
   "source": [
    "## Imports"
   ]
  },
  {
   "cell_type": "code",
   "execution_count": 2,
   "metadata": {
    "colab": {
     "base_uri": "https://localhost:8080/"
    },
    "id": "NbxNfCQq2-8H",
    "outputId": "3263185f-dc96-4d43-acfa-ba66db69cd86"
   },
   "outputs": [
    {
     "ename": "ImportError",
     "evalue": "cannot import name 'Monitor' from 'gym.wrappers' (C:\\Users\\orlivne\\anaconda3\\lib\\site-packages\\gym\\wrappers\\__init__.py)",
     "output_type": "error",
     "traceback": [
      "\u001b[1;31m---------------------------------------------------------------------------\u001b[0m",
      "\u001b[1;31mImportError\u001b[0m                               Traceback (most recent call last)",
      "\u001b[1;32m~\\AppData\\Local\\Temp\\ipykernel_18660\\2421517716.py\u001b[0m in \u001b[0;36m<cell line: 4>\u001b[1;34m()\u001b[0m\n\u001b[0;32m      2\u001b[0m \u001b[1;32mimport\u001b[0m \u001b[0mgym\u001b[0m\u001b[1;33m\u001b[0m\u001b[1;33m\u001b[0m\u001b[0m\n\u001b[0;32m      3\u001b[0m \u001b[1;32mfrom\u001b[0m \u001b[0mgym\u001b[0m \u001b[1;32mimport\u001b[0m \u001b[0mlogger\u001b[0m \u001b[1;32mas\u001b[0m \u001b[0mgymlogger\u001b[0m\u001b[1;33m\u001b[0m\u001b[1;33m\u001b[0m\u001b[0m\n\u001b[1;32m----> 4\u001b[1;33m \u001b[1;32mfrom\u001b[0m \u001b[0mgym\u001b[0m\u001b[1;33m.\u001b[0m\u001b[0mwrappers\u001b[0m \u001b[1;32mimport\u001b[0m \u001b[0mMonitor\u001b[0m\u001b[1;33m\u001b[0m\u001b[1;33m\u001b[0m\u001b[0m\n\u001b[0m\u001b[0;32m      5\u001b[0m \u001b[1;32mfrom\u001b[0m \u001b[0mgym\u001b[0m\u001b[1;33m.\u001b[0m\u001b[0mutils\u001b[0m \u001b[1;32mimport\u001b[0m \u001b[0mseeding\u001b[0m\u001b[1;33m\u001b[0m\u001b[1;33m\u001b[0m\u001b[0m\n\u001b[0;32m      6\u001b[0m \u001b[1;32mfrom\u001b[0m \u001b[0mgym\u001b[0m \u001b[1;32mimport\u001b[0m \u001b[0merror\u001b[0m\u001b[1;33m,\u001b[0m \u001b[0mspaces\u001b[0m\u001b[1;33m,\u001b[0m \u001b[0mutils\u001b[0m\u001b[1;33m\u001b[0m\u001b[1;33m\u001b[0m\u001b[0m\n",
      "\u001b[1;31mImportError\u001b[0m: cannot import name 'Monitor' from 'gym.wrappers' (C:\\Users\\orlivne\\anaconda3\\lib\\site-packages\\gym\\wrappers\\__init__.py)"
     ]
    }
   ],
   "source": [
    "import numpy as np\n",
    "import gym\n",
    "from gym import logger as gymlogger\n",
    "from gym.wrappers import Monitor\n",
    "from gym.utils import seeding\n",
    "from gym import error, spaces, utils\n",
    "gymlogger.set_level(40) # error only\n",
    "import glob\n",
    "import io\n",
    "import base64\n",
    "import os\n",
    "import random\n",
    "import matplotlib.pyplot as plt\n",
    "%matplotlib inline\n",
    "import math\n",
    "import glob\n",
    "from pyvirtualdisplay import Display\n",
    "from IPython.display import HTML\n",
    "from IPython import display as ipythondisplay\n",
    "import pygame"
   ]
  },
  {
   "cell_type": "markdown",
   "metadata": {
    "id": "I_CiTInf6Vrq"
   },
   "source": [
    "## Display utils\n",
    "The cell below contains the video display configuration. No need to make changes here."
   ]
  },
  {
   "cell_type": "code",
   "execution_count": null,
   "metadata": {
    "id": "IBL7zGQU3Y6t"
   },
   "outputs": [],
   "source": [
    "display = Display(visible=0, size=(1400, 900))\n",
    "display.start()\n",
    "\n",
    "\n",
    "\n",
    "if type(os.environ.get(\"DISPLAY\")) is not str or len(os.environ.get(\"DISPLAY\"))==0:\n",
    "    !bash ../xvfb start\n",
    "    %env DISPLAY=:1\n",
    "\n",
    "\n",
    "\n",
    "\"\"\"\n",
    "Utility functions to enable video recording of gym environment \n",
    "and displaying it.\n",
    "To enable video, just do \"env = wrap_env(env)\"\"\n",
    "\"\"\"\n",
    "\n",
    "def show_video():\n",
    "  mp4list = glob.glob('video/*.mp4')\n",
    "  if len(mp4list) > 0:\n",
    "    mp4 = mp4list[0]\n",
    "    video = io.open(mp4, 'r+b').read()\n",
    "    encoded = base64.b64encode(video)\n",
    "    ipythondisplay.display(HTML(data='''<video alt=\"test\" autoplay \n",
    "                loop controls style=\"height: 400px;\">\n",
    "                <source src=\"data:video/mp4;base64,{0}\" type=\"video/mp4\" />\n",
    "             </video>'''.format(encoded.decode('ascii'))))\n",
    "  else: \n",
    "    print(\"Could not find video\")\n",
    "    \n",
    "\n",
    "def wrap_env(env):\n",
    "  env = Monitor(env, './video', force=True)\n",
    "  return env"
   ]
  },
  {
   "cell_type": "markdown",
   "metadata": {
    "id": "k0AgORUSyBeT"
   },
   "source": [
    "## MazeEnv\n",
    "The cell below contains the configuration of the maze environment. No need to make changes here."
   ]
  },
  {
   "cell_type": "code",
   "execution_count": null,
   "metadata": {
    "id": "ma68Mu_rnvCb"
   },
   "outputs": [],
   "source": [
    "\n",
    "class MazeEnv(gym.Env):\n",
    "    metadata = {\n",
    "        \"render.modes\": [\"human\", \"rgb_array\"],\n",
    "    }\n",
    "\n",
    "    ACTION = [\"N\", \"S\", \"E\", \"W\"]\n",
    "\n",
    "    def __init__(self, maze_file=None, maze_size=None, mode=None, enable_render=True):\n",
    "\n",
    "        self.viewer = None\n",
    "        self.enable_render = enable_render\n",
    "\n",
    "        if maze_file:\n",
    "            self.maze_view = MazeView2D(maze_name=\"OpenAI Gym - Maze (%s)\" % maze_file,\n",
    "                                        maze_file_path=maze_file,\n",
    "                                        screen_size=(640, 640), \n",
    "                                        enable_render=enable_render)\n",
    "        elif maze_size:\n",
    "            if mode == \"plus\":\n",
    "                has_loops = True\n",
    "                num_portals = int(round(min(maze_size)/3))\n",
    "            else:\n",
    "                has_loops = False\n",
    "                num_portals = 0\n",
    "\n",
    "            self.maze_view = MazeView2D(maze_name=\"OpenAI Gym - Maze (%d x %d)\" % maze_size,\n",
    "                                        maze_size=maze_size, screen_size=(640, 640),\n",
    "                                        has_loops=has_loops, num_portals=num_portals,\n",
    "                                        enable_render=enable_render)\n",
    "        else:\n",
    "            raise AttributeError(\"One must supply either a maze_file path (str) or the maze_size (tuple of length 2)\")\n",
    "\n",
    "        self.maze_size = self.maze_view.maze_size\n",
    "\n",
    "        # forward or backward in each dimension\n",
    "        self.action_space = spaces.Discrete(2*len(self.maze_size))\n",
    "\n",
    "        # observation is the x, y coordinate of the grid\n",
    "        low = np.zeros(len(self.maze_size), dtype=int)\n",
    "        high =  np.array(self.maze_size, dtype=int) - np.ones(len(self.maze_size), dtype=int)\n",
    "        self.observation_space = spaces.Box(low, high, dtype=np.int64)\n",
    "\n",
    "        # initial condition\n",
    "        self.state = None\n",
    "        self.steps_beyond_done = None\n",
    "\n",
    "        # Simulation related variables.\n",
    "        self.seed()\n",
    "        self.reset()\n",
    "\n",
    "        # Just need to initialize the relevant attributes\n",
    "        self.configure()\n",
    "\n",
    "    def __del__(self):\n",
    "        if self.enable_render is True:\n",
    "            self.maze_view.quit_game()\n",
    "\n",
    "    def configure(self, display=None):\n",
    "        self.display = display\n",
    "\n",
    "    def seed(self, seed=None):\n",
    "        self.np_random, seed = seeding.np_random(seed)\n",
    "        return [seed]\n",
    "\n",
    "    def step(self, action):\n",
    "        if isinstance(action, int):\n",
    "\n",
    "            self.maze_view.move_robot(self.ACTION[action])\n",
    "        else:\n",
    "            self.maze_view.move_robot(action)\n",
    "\n",
    "        if np.array_equal(self.maze_view.robot, self.maze_view.goal):\n",
    "            reward = 1\n",
    "            done = True\n",
    "        else:\n",
    "            reward = -0.1/(self.maze_size[0]*self.maze_size[1])\n",
    "            done = False\n",
    "\n",
    "        self.state = self.maze_view.robot\n",
    "\n",
    "        info = {}\n",
    "\n",
    "        return self.state, reward, done, info\n",
    "\n",
    "    def reset(self):\n",
    "        self.maze_view.reset_robot()\n",
    "        self.state = np.zeros(2)\n",
    "        self.steps_beyond_done = None\n",
    "        self.done = False\n",
    "        return self.state\n",
    "\n",
    "    def is_game_over(self):\n",
    "        return self.maze_view.game_over\n",
    "\n",
    "    def render(self, mode=\"human\", close=False):\n",
    "        if close:\n",
    "            self.maze_view.quit_game()\n",
    "\n",
    "        return self.maze_view.update(mode)\n",
    "\n",
    "\n",
    "\n",
    "class MazeView2D:\n",
    "\n",
    "    def __init__(self, maze_name=\"Maze2D\", maze_file_path=None,\n",
    "                 maze_size=(30, 30), screen_size=(600, 600),\n",
    "                 has_loops=False, num_portals=0, enable_render=True):\n",
    "\n",
    "        # PyGame configurations\n",
    "        pygame.init()\n",
    "        pygame.display.set_caption(maze_name)\n",
    "        self.clock = pygame.time.Clock()\n",
    "        self.__game_over = False\n",
    "        self.__enable_render = enable_render\n",
    "\n",
    "        # Load a maze\n",
    "        if maze_file_path is None:\n",
    "            self.__maze = Maze(maze_size=maze_size, has_loops=has_loops, num_portals=num_portals)\n",
    "        else:\n",
    "            if not os.path.exists(maze_file_path):\n",
    "                dir_path = os.path.dirname(os.path.abspath(__file__))\n",
    "                rel_path = os.path.join(dir_path, \"maze_samples\", maze_file_path)\n",
    "                if os.path.exists(rel_path):\n",
    "                    maze_file_path = rel_path\n",
    "                else:\n",
    "                    raise FileExistsError(\"Cannot find %s.\" % maze_file_path)\n",
    "            self.__maze = Maze(maze_cells=Maze.load_maze(maze_file_path))\n",
    "\n",
    "        self.maze_size = self.__maze.maze_size\n",
    "        if self.__enable_render is True:\n",
    "            # to show the right and bottom border\n",
    "            self.screen = pygame.display.set_mode(screen_size)\n",
    "            self.__screen_size = tuple(map(sum, zip(screen_size, (-1, -1))))\n",
    "\n",
    "        # Set the starting point\n",
    "        self.__entrance = np.zeros(2, dtype=int)\n",
    "\n",
    "        # Set the Goal\n",
    "        self.__goal = np.array(self.maze_size) - np.array((1, 1))\n",
    "\n",
    "        # Create the Robot\n",
    "        self.__robot = self.entrance\n",
    "\n",
    "        if self.__enable_render is True:\n",
    "            # Create a background\n",
    "            self.background = pygame.Surface(self.screen.get_size()).convert()\n",
    "            self.background.fill((255, 255, 255))\n",
    "\n",
    "            # Create a layer for the maze\n",
    "            self.maze_layer = pygame.Surface(self.screen.get_size()).convert_alpha()\n",
    "            self.maze_layer.fill((0, 0, 0, 0,))\n",
    "\n",
    "            # show the maze\n",
    "            self.__draw_maze()\n",
    "\n",
    "            # show the portals\n",
    "            self.__draw_portals()\n",
    "\n",
    "            # show the robot\n",
    "            self.__draw_robot()\n",
    "\n",
    "            # show the entrance\n",
    "            self.__draw_entrance()\n",
    "\n",
    "            # show the goal\n",
    "            self.__draw_goal()\n",
    "\n",
    "    def update(self, mode=\"human\"):\n",
    "        try:\n",
    "            img_output = self.__view_update(mode)\n",
    "            self.__controller_update()\n",
    "        except Exception as e:\n",
    "            self.__game_over = True\n",
    "            self.quit_game()\n",
    "            raise e\n",
    "        else:\n",
    "            return img_output\n",
    "\n",
    "    def quit_game(self):\n",
    "        try:\n",
    "            self.__game_over = True\n",
    "            if self.__enable_render is True:\n",
    "                pygame.display.quit()\n",
    "            pygame.quit()\n",
    "        except Exception:\n",
    "            pass\n",
    "\n",
    "    def move_robot(self, dir):\n",
    "        if dir not in self.__maze.COMPASS.keys():\n",
    "            raise ValueError(\"dir cannot be %s. The only valid dirs are %s.\"\n",
    "                             % (str(dir), str(self.__maze.COMPASS.keys())))\n",
    "\n",
    "        if self.__maze.is_open(self.__robot, dir):\n",
    "\n",
    "            # update the drawing\n",
    "            self.__draw_robot(transparency=0)\n",
    "\n",
    "            # move the robot\n",
    "            self.__robot += np.array(self.__maze.COMPASS[dir])\n",
    "            # if it's in a portal afterward\n",
    "            if self.maze.is_portal(self.robot):\n",
    "                self.__robot = np.array(self.maze.get_portal(tuple(self.robot)).teleport(tuple(self.robot)))\n",
    "            self.__draw_robot(transparency=255)\n",
    "\n",
    "    def reset_robot(self):\n",
    "\n",
    "        self.__draw_robot(transparency=0)\n",
    "        self.__robot = np.zeros(2, dtype=int)\n",
    "        self.__draw_robot(transparency=255)\n",
    "\n",
    "    def __controller_update(self):\n",
    "        if not self.__game_over:\n",
    "            for event in pygame.event.get():\n",
    "                if event.type == pygame.QUIT:\n",
    "                    self.__game_over = True\n",
    "                    self.quit_game()\n",
    "\n",
    "    def __view_update(self, mode=\"human\"):\n",
    "        if not self.__game_over:\n",
    "            # update the robot's position\n",
    "            self.__draw_entrance()\n",
    "            self.__draw_goal()\n",
    "            self.__draw_portals()\n",
    "            self.__draw_robot()\n",
    "\n",
    "\n",
    "            # update the screen\n",
    "            self.screen.blit(self.background, (0, 0))\n",
    "            self.screen.blit(self.maze_layer,(0, 0))\n",
    "\n",
    "            if mode == \"human\":\n",
    "                pygame.display.flip()\n",
    "\n",
    "            return np.flipud(np.rot90(pygame.surfarray.array3d(pygame.display.get_surface())))\n",
    "\n",
    "    def __draw_maze(self):\n",
    "        \n",
    "        if self.__enable_render is False:\n",
    "            return\n",
    "        \n",
    "        line_colour = (0, 0, 0, 255)\n",
    "\n",
    "        # drawing the horizontal lines\n",
    "        for y in range(self.maze.MAZE_H + 1):\n",
    "            pygame.draw.line(self.maze_layer, line_colour, (0, y * self.CELL_H),\n",
    "                             (self.SCREEN_W, y * self.CELL_H))\n",
    "\n",
    "        # drawing the vertical lines\n",
    "        for x in range(self.maze.MAZE_W + 1):\n",
    "            pygame.draw.line(self.maze_layer, line_colour, (x * self.CELL_W, 0),\n",
    "                             (x * self.CELL_W, self.SCREEN_H))\n",
    "\n",
    "        # breaking the walls\n",
    "        for x in range(len(self.maze.maze_cells)):\n",
    "            for y in range (len(self.maze.maze_cells[x])):\n",
    "                # check the which walls are open in each cell\n",
    "                walls_status = self.maze.get_walls_status(self.maze.maze_cells[x, y])\n",
    "                dirs = \"\"\n",
    "                for dir, open in walls_status.items():\n",
    "                    if open:\n",
    "                        dirs += dir\n",
    "                self.__cover_walls(x, y, dirs)\n",
    "\n",
    "    def __cover_walls(self, x, y, dirs, colour=(0, 0, 255, 15)):\n",
    "\n",
    "        if self.__enable_render is False:\n",
    "            return\n",
    "        \n",
    "        dx = x * self.CELL_W\n",
    "        dy = y * self.CELL_H\n",
    "\n",
    "        if not isinstance(dirs, str):\n",
    "            raise TypeError(\"dirs must be a str.\")\n",
    "\n",
    "        for dir in dirs:\n",
    "            if dir == \"S\":\n",
    "                line_head = (dx + 1, dy + self.CELL_H)\n",
    "                line_tail = (dx + self.CELL_W - 1, dy + self.CELL_H)\n",
    "            elif dir == \"N\":\n",
    "                line_head = (dx + 1, dy)\n",
    "                line_tail = (dx + self.CELL_W - 1, dy)\n",
    "            elif dir == \"W\":\n",
    "                line_head = (dx, dy + 1)\n",
    "                line_tail = (dx, dy + self.CELL_H - 1)\n",
    "            elif dir == \"E\":\n",
    "                line_head = (dx + self.CELL_W, dy + 1)\n",
    "                line_tail = (dx + self.CELL_W, dy + self.CELL_H - 1)\n",
    "            else:\n",
    "                raise ValueError(\"The only valid directions are (N, S, E, W).\")\n",
    "\n",
    "            pygame.draw.line(self.maze_layer, colour, line_head, line_tail)\n",
    "\n",
    "    def __draw_robot(self, colour=(0, 0, 150), transparency=255):\n",
    "\n",
    "        if self.__enable_render is False:\n",
    "            return\n",
    "        \n",
    "        x = int(self.__robot[0] * self.CELL_W + self.CELL_W * 0.5 + 0.5)\n",
    "        y = int(self.__robot[1] * self.CELL_H + self.CELL_H * 0.5 + 0.5)\n",
    "        r = int(min(self.CELL_W, self.CELL_H)/5 + 0.5)\n",
    "\n",
    "        pygame.draw.circle(self.maze_layer, colour + (transparency,), (x, y), r)\n",
    "\n",
    "    def __draw_entrance(self, colour=(0, 0, 150), transparency=235):\n",
    "\n",
    "        self.__colour_cell(self.entrance, colour=colour, transparency=transparency)\n",
    "\n",
    "    def __draw_goal(self, colour=(150, 0, 0), transparency=235):\n",
    "\n",
    "        self.__colour_cell(self.goal, colour=colour, transparency=transparency)\n",
    "\n",
    "    def __draw_portals(self, transparency=160):\n",
    "\n",
    "        if self.__enable_render is False:\n",
    "            return\n",
    "        \n",
    "        colour_range = np.linspace(0, 255, len(self.maze.portals), dtype=int)\n",
    "        colour_i = 0\n",
    "        for portal in self.maze.portals:\n",
    "            colour = ((100 - colour_range[colour_i])% 255, colour_range[colour_i], 0)\n",
    "            colour_i += 1\n",
    "            for location in portal.locations:\n",
    "                self.__colour_cell(location, colour=colour, transparency=transparency)\n",
    "\n",
    "    def __colour_cell(self, cell, colour, transparency):\n",
    "\n",
    "        if self.__enable_render is False:\n",
    "            return\n",
    "\n",
    "        if not (isinstance(cell, (list, tuple, np.ndarray)) and len(cell) == 2):\n",
    "            raise TypeError(\"cell must a be a tuple, list, or numpy array of size 2\")\n",
    "\n",
    "        x = int(cell[0] * self.CELL_W + 0.5 + 1)\n",
    "        y = int(cell[1] * self.CELL_H + 0.5 + 1)\n",
    "        w = int(self.CELL_W + 0.5 - 1)\n",
    "        h = int(self.CELL_H + 0.5 - 1)\n",
    "        pygame.draw.rect(self.maze_layer, colour + (transparency,), (x, y, w, h))\n",
    "\n",
    "    @property\n",
    "    def maze(self):\n",
    "        return self.__maze\n",
    "\n",
    "    @property\n",
    "    def robot(self):\n",
    "        return self.__robot\n",
    "\n",
    "    @property\n",
    "    def entrance(self):\n",
    "        return self.__entrance\n",
    "\n",
    "    @property\n",
    "    def goal(self):\n",
    "        return self.__goal\n",
    "\n",
    "    @property\n",
    "    def game_over(self):\n",
    "        return self.__game_over\n",
    "\n",
    "    @property\n",
    "    def SCREEN_SIZE(self):\n",
    "        return tuple(self.__screen_size)\n",
    "\n",
    "    @property\n",
    "    def SCREEN_W(self):\n",
    "        return int(self.SCREEN_SIZE[0])\n",
    "\n",
    "    @property\n",
    "    def SCREEN_H(self):\n",
    "        return int(self.SCREEN_SIZE[1])\n",
    "\n",
    "    @property\n",
    "    def CELL_W(self):\n",
    "        return float(self.SCREEN_W) / float(self.maze.MAZE_W)\n",
    "\n",
    "    @property\n",
    "    def CELL_H(self):\n",
    "        return float(self.SCREEN_H) / float(self.maze.MAZE_H)\n",
    "\n",
    "class Maze:\n",
    "\n",
    "    COMPASS = {\n",
    "        \"N\": (0, -1),\n",
    "        \"E\": (1, 0),\n",
    "        \"S\": (0, 1),\n",
    "        \"W\": (-1, 0)\n",
    "    }\n",
    "\n",
    "    def __init__(self, maze_cells=None, maze_size=(10,10), has_loops=True, num_portals=0):\n",
    "\n",
    "        # maze member variables\n",
    "        self.maze_cells = maze_cells\n",
    "        self.has_loops = has_loops\n",
    "        self.__portals_dict = dict()\n",
    "        self.__portals = []\n",
    "        self.num_portals = num_portals\n",
    "\n",
    "        # Use existing one if exists\n",
    "        if self.maze_cells is not None:\n",
    "            if isinstance(self.maze_cells, (np.ndarray, np.generic)) and len(self.maze_cells.shape) == 2:\n",
    "                self.maze_size = tuple(maze_cells.shape)\n",
    "            else:\n",
    "                raise ValueError(\"maze_cells must be a 2D NumPy array.\")\n",
    "        # Otherwise, generate a random one\n",
    "        else:\n",
    "            raise ValueError(\"Please upload the maze you downloaded in the submission box!\")\n",
    "         \n",
    "\n",
    "    def save_maze(self, file_path):\n",
    "\n",
    "        if not isinstance(file_path, str):\n",
    "            raise TypeError(\"Invalid file_path. It must be a str.\")\n",
    "\n",
    "        if not os.path.exists(os.path.dirname(file_path)):\n",
    "            raise ValueError(\"Cannot find the directory for %s.\" % file_path)\n",
    "\n",
    "        else:\n",
    "            np.save(file_path, self.maze_cells, allow_pickle=False, fix_imports=True)\n",
    "\n",
    "    @classmethod\n",
    "    def load_maze(cls, file_path):\n",
    "\n",
    "        if not isinstance(file_path, str):\n",
    "            raise TypeError(\"Invalid file_path. It must be a str.\")\n",
    "\n",
    "        if not os.path.exists(file_path):\n",
    "            raise ValueError(\"Cannot find %s.\" % file_path)\n",
    "\n",
    "        else:\n",
    "            return np.load(file_path, allow_pickle=False, fix_imports=True)\n",
    "\n",
    "    def __break_random_walls(self, percent):\n",
    "        # find some random cells to break\n",
    "        num_cells = int(round(self.MAZE_H*self.MAZE_W*percent))\n",
    "        cell_ids = random.sample(range(self.MAZE_W*self.MAZE_H), num_cells)\n",
    "\n",
    "        # for each of those walls\n",
    "        for cell_id in cell_ids:\n",
    "            x = cell_id % self.MAZE_H\n",
    "            y = int(cell_id/self.MAZE_H)\n",
    "\n",
    "            # randomize the compass order\n",
    "            dirs = random.sample(list(self.COMPASS.keys()), len(self.COMPASS))\n",
    "            for dir in dirs:\n",
    "                # break the wall if it's not already open\n",
    "                if self.is_breakable((x, y), dir):\n",
    "                    self.maze_cells[x, y] = self.__break_walls(self.maze_cells[x, y], dir)\n",
    "                    break\n",
    "\n",
    "    def __set_random_portals(self, num_portal_sets, set_size=2):\n",
    "        # find some random cells to break\n",
    "        num_portal_sets = int(num_portal_sets)\n",
    "        set_size = int(set_size)\n",
    "\n",
    "        # limit the maximum number of portal sets to the number of cells available.\n",
    "        max_portal_sets = int(self.MAZE_W * self.MAZE_H / set_size)\n",
    "        num_portal_sets = min(max_portal_sets, num_portal_sets)\n",
    "\n",
    "        # the first and last cells are reserved\n",
    "        cell_ids = random.sample(range(1, self.MAZE_W * self.MAZE_H - 1), num_portal_sets*set_size)\n",
    "\n",
    "        for i in range(num_portal_sets):\n",
    "            # sample the set_size number of sell\n",
    "            portal_cell_ids = random.sample(cell_ids, set_size)\n",
    "            portal_locations = []\n",
    "            for portal_cell_id in portal_cell_ids:\n",
    "                # remove the cell from the set of potential cell_ids\n",
    "                cell_ids.pop(cell_ids.index(portal_cell_id))\n",
    "                # convert portal ids to location\n",
    "                x = portal_cell_id % self.MAZE_H\n",
    "                y = int(portal_cell_id / self.MAZE_H)\n",
    "                portal_locations.append((x,y))\n",
    "            # append the new portal to the maze\n",
    "            portal = Portal(*portal_locations)\n",
    "            self.__portals.append(portal)\n",
    "\n",
    "            # create a dictionary of portals\n",
    "            for portal_location in portal_locations:\n",
    "                self.__portals_dict[portal_location] = portal\n",
    "\n",
    "    def is_open(self, cell_id, dir):\n",
    "        # check if it would be out-of-bound\n",
    "        x1 = cell_id[0] + self.COMPASS[dir][0]\n",
    "        y1 = cell_id[1] + self.COMPASS[dir][1]\n",
    "\n",
    "        # if cell is still within bounds after the move\n",
    "        if self.is_within_bound(x1, y1):\n",
    "            # check if the wall is opened\n",
    "            this_wall = bool(self.get_walls_status(self.maze_cells[cell_id[0], cell_id[1]])[dir])\n",
    "            other_wall = bool(self.get_walls_status(self.maze_cells[x1, y1])[self.__get_opposite_wall(dir)])\n",
    "            return this_wall or other_wall\n",
    "        return False\n",
    "\n",
    "    def is_breakable(self, cell_id, dir):\n",
    "        # check if it would be out-of-bound\n",
    "        x1 = cell_id[0] + self.COMPASS[dir][0]\n",
    "        y1 = cell_id[1] + self.COMPASS[dir][1]\n",
    "\n",
    "        return not self.is_open(cell_id, dir) and self.is_within_bound(x1, y1)\n",
    "\n",
    "    def is_within_bound(self, x, y):\n",
    "        # true if cell is still within bounds after the move\n",
    "        return 0 <= x < self.MAZE_W and 0 <= y < self.MAZE_H\n",
    "\n",
    "    def is_portal(self, cell):\n",
    "        return tuple(cell) in self.__portals_dict\n",
    "\n",
    "    @property\n",
    "    def portals(self):\n",
    "        return tuple(self.__portals)\n",
    "\n",
    "    def get_portal(self, cell):\n",
    "        if cell in self.__portals_dict:\n",
    "            return self.__portals_dict[cell]\n",
    "        return None\n",
    "\n",
    "    @property\n",
    "    def MAZE_W(self):\n",
    "        return int(self.maze_size[0])\n",
    "\n",
    "    @property\n",
    "    def MAZE_H(self):\n",
    "        return int(self.maze_size[1])\n",
    "\n",
    "    @classmethod\n",
    "    def get_walls_status(cls, cell):\n",
    "        walls = {\n",
    "            \"N\" : (cell & 0x1) >> 0,\n",
    "            \"E\" : (cell & 0x2) >> 1,\n",
    "            \"S\" : (cell & 0x4) >> 2,\n",
    "            \"W\" : (cell & 0x8) >> 3,\n",
    "        }\n",
    "        return walls\n",
    "\n",
    "    @classmethod\n",
    "    def all_walls_intact(cls, cell):\n",
    "        return cell & 0xF == 0\n",
    "\n",
    "    @classmethod\n",
    "    def num_walls_broken(cls, cell):\n",
    "        walls = cls.get_walls_status(cell)\n",
    "        num_broken = 0\n",
    "        for wall_broken in walls.values():\n",
    "            num_broken += wall_broken\n",
    "        return num_broken\n",
    "\n",
    "    @classmethod\n",
    "    def __break_walls(cls, cell, dirs):\n",
    "        if \"N\" in dirs:\n",
    "            cell |= 0x1\n",
    "        if \"E\" in dirs:\n",
    "            cell |= 0x2\n",
    "        if \"S\" in dirs:\n",
    "            cell |= 0x4\n",
    "        if \"W\" in dirs:\n",
    "            cell |= 0x8\n",
    "        return cell\n",
    "\n",
    "    @classmethod\n",
    "    def __get_opposite_wall(cls, dirs):\n",
    "\n",
    "        if not isinstance(dirs, str):\n",
    "            raise TypeError(\"dirs must be a str.\")\n",
    "\n",
    "        opposite_dirs = \"\"\n",
    "\n",
    "        for dir in dirs:\n",
    "            if dir == \"N\":\n",
    "                opposite_dir = \"S\"\n",
    "            elif dir == \"S\":\n",
    "                opposite_dir = \"N\"\n",
    "            elif dir == \"E\":\n",
    "                opposite_dir = \"W\"\n",
    "            elif dir == \"W\":\n",
    "                opposite_dir = \"E\"\n",
    "            else:\n",
    "                raise ValueError(\"The only valid directions are (N, S, E, W).\")\n",
    "\n",
    "            opposite_dirs += opposite_dir\n",
    "\n",
    "        return opposite_dirs\n",
    "        \n",
    "class MazeEnvSample15x15(MazeEnv):\n",
    "\n",
    "    def __init__(self, enable_render=True):\n",
    "        super(MazeEnvSample15x15, self).__init__(maze_file=\"/content/maze2d_15x15.npy\", enable_render=enable_render)\n",
    "\n",
    "\n",
    "class MazeEnvSample30x30(MazeEnv):\n",
    "\n",
    "    def __init__(self, enable_render=True):\n",
    "        super(MazeEnvSample30x30, self).__init__(maze_file=\"/content/maze2d_30x30.npy\", enable_render=enable_render)"
   ]
  },
  {
   "cell_type": "markdown",
   "metadata": {
    "id": "zRG2yQvoKq6x"
   },
   "source": [
    "### Upload the maze files\n",
    "Upload the maze files you downloaded in the submission box"
   ]
  },
  {
   "cell_type": "code",
   "execution_count": null,
   "metadata": {
    "colab": {
     "base_uri": "https://localhost:8080/",
     "height": 215,
     "resources": {
      "http://localhost:8080/nbextensions/google.colab/files.js": {
       "data": "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",
       "headers": [
        [
         "content-type",
         "application/javascript"
        ]
       ],
       "ok": true,
       "status": 200,
       "status_text": ""
      }
     }
    },
    "id": "KjrQvNrZJKI2",
    "outputId": "aa17e877-37f0-4d53-c4f3-ffdbd391f970"
   },
   "outputs": [
    {
     "name": "stdout",
     "output_type": "stream",
     "text": [
      "Please upload the maze2d_15x15 file\n"
     ]
    },
    {
     "data": {
      "text/html": [
       "\n",
       "     <input type=\"file\" id=\"files-89a08a68-b7b5-4515-8e57-2962821a5b76\" name=\"files[]\" multiple disabled\n",
       "        style=\"border:none\" />\n",
       "     <output id=\"result-89a08a68-b7b5-4515-8e57-2962821a5b76\">\n",
       "      Upload widget is only available when the cell has been executed in the\n",
       "      current browser session. Please rerun this cell to enable.\n",
       "      </output>\n",
       "      <script src=\"/nbextensions/google.colab/files.js\"></script> "
      ],
      "text/plain": [
       "<IPython.core.display.HTML object>"
      ]
     },
     "metadata": {},
     "output_type": "display_data"
    },
    {
     "name": "stdout",
     "output_type": "stream",
     "text": [
      "Saving maze2d_15x15.npy to maze2d_15x15.npy\n",
      "User uploaded file \"maze2d_15x15.npy\" with length 16 bytes\n",
      "\n",
      "Please upload the maze2d_30x30 file\n"
     ]
    },
    {
     "data": {
      "text/html": [
       "\n",
       "     <input type=\"file\" id=\"files-23291211-dde8-40e3-ab73-acab150cd71a\" name=\"files[]\" multiple disabled\n",
       "        style=\"border:none\" />\n",
       "     <output id=\"result-23291211-dde8-40e3-ab73-acab150cd71a\">\n",
       "      Upload widget is only available when the cell has been executed in the\n",
       "      current browser session. Please rerun this cell to enable.\n",
       "      </output>\n",
       "      <script src=\"/nbextensions/google.colab/files.js\"></script> "
      ],
      "text/plain": [
       "<IPython.core.display.HTML object>"
      ]
     },
     "metadata": {},
     "output_type": "display_data"
    },
    {
     "name": "stdout",
     "output_type": "stream",
     "text": [
      "Saving maze2d_30x30.npy to maze2d_30x30.npy\n",
      "User uploaded file \"maze2d_30x30.npy\" with length 16 bytes\n"
     ]
    }
   ],
   "source": [
    "from google.colab import files\n",
    "print('Please upload the maze2d_15x15 file')\n",
    "maze2d_15x15 = files.upload()\n",
    "print('User uploaded file \"{name}\" with length {length} bytes'.format(\n",
    "      name=list(maze2d_15x15)[0], length=len(list(maze2d_15x15)[0])))\n",
    "\n",
    "print('\\nPlease upload the maze2d_30x30 file')\n",
    "maze2d_30x30 = files.upload()\n",
    "print('User uploaded file \"{name}\" with length {length} bytes'.format(\n",
    "      name=list(maze2d_30x30)[0], length=len(list(maze2d_30x30)[0])))"
   ]
  },
  {
   "cell_type": "markdown",
   "metadata": {
    "id": "ZBt4jtAZyU64"
   },
   "source": [
    "## Environment check\n",
    "Here you can check if the environment of the maze is working properly.<br> **If the first time you run the cell an error appears Try to run the cell again.**\n",
    "\n",
    "---"
   ]
  },
  {
   "cell_type": "markdown",
   "metadata": {
    "id": "enloRj7ON4iu"
   },
   "source": [
    "### Environment 15X15"
   ]
  },
  {
   "cell_type": "code",
   "execution_count": null,
   "metadata": {
    "colab": {
     "base_uri": "https://localhost:8080/",
     "height": 286
    },
    "id": "vb4-FNQanzOe",
    "outputId": "d81b1ee8-3612-4586-f0cc-0db1c31b2cc7"
   },
   "outputs": [
    {
     "name": "stdout",
     "output_type": "stream",
     "text": [
      "action: 2, observation: [1 0],  reward: -0.00044444444444444447, done: False\n"
     ]
    },
    {
     "data": {
      "image/png": "[encoded data removed]",
      "text/plain": [
       "<Figure size 432x288 with 1 Axes>"
      ]
     },
     "metadata": {
      "needs_background": "light"
     },
     "output_type": "display_data"
    }
   ],
   "source": [
    "env = MazeEnvSample15x15() \n",
    "env.reset()\n",
    "plt.imshow(env.render('rgb_array'))\n",
    "state_size = env.observation_space\n",
    "a = env.action_space \n",
    "state = env.reset()\n",
    "env.render()\n",
    "action = env.action_space.sample()\n",
    "observation, reward, done, info = env.step(action)\n",
    "env.render()\n",
    "print(f'action: {action}, observation: {observation},  reward: {reward}, done: {done}')\n"
   ]
  },
  {
   "cell_type": "markdown",
   "metadata": {
    "id": "p9O2MD8ROBaY"
   },
   "source": [
    "### Environment 30X30"
   ]
  },
  {
   "cell_type": "code",
   "execution_count": null,
   "metadata": {
    "colab": {
     "base_uri": "https://localhost:8080/",
     "height": 286
    },
    "id": "aCc5S-z6vOmL",
    "outputId": "e12fde14-61dd-4f6f-8973-32aa9665d46c"
   },
   "outputs": [
    {
     "name": "stdout",
     "output_type": "stream",
     "text": [
      "iteration: 10, action: 0,  observation: [0 3], reward: -0.00011111111111111112, done: False\n"
     ]
    },
    {
     "data": {
      "image/png": "[encoded data removed]",
      "text/plain": [
       "<Figure size 432x288 with 1 Axes>"
      ]
     },
     "metadata": {
      "needs_background": "light"
     },
     "output_type": "display_data"
    }
   ],
   "source": [
    "env = MazeEnvSample30x30() \n",
    "env = wrap_env(env)\n",
    "env.reset()\n",
    "plt.imshow(env.render('rgb_array'))\n",
    "done = False\n",
    "iter = 0\n",
    "print(done)\n",
    "action = 1\n",
    "while (iter < 10):#not done:\n",
    "  iter +=1\n",
    "  action = env.action_space.sample()\n",
    "  observation, reward, done, _ = env.step(action)\n",
    "  screen = env.render(mode='rgb_array')\n",
    "  plt.imshow(screen)\n",
    "  ipythondisplay.clear_output(wait=True)\n",
    "  print(f'iteration: {iter}, action: {action},  observation: {observation}, reward: {reward}, done: {done}')"
   ]
  },
  {
   "cell_type": "markdown",
   "metadata": {
    "id": "tp37JKNZRyO4"
   },
   "source": [
    "### Play video"
   ]
  },
  {
   "cell_type": "code",
   "execution_count": null,
   "metadata": {
    "colab": {
     "base_uri": "https://localhost:8080/",
     "height": 421
    },
    "id": "GP2Rg2Ozv2Id",
    "outputId": "252b415e-6d00-4f92-cb66-510cf431b097"
   },
   "outputs": [
    {
     "data": {
      "text/html": [
       "<video alt=\"test\" autoplay \n",
       "                loop controls style=\"height: 400px;\">\n",
       "                <source src=\"data:video/mp4;base64,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\" type=\"video/mp4\" />\n",
       "             </video>"
      ],
      "text/plain": [
       "<IPython.core.display.HTML object>"
      ]
     },
     "metadata": {},
     "output_type": "display_data"
    }
   ],
   "source": [
    "env.close()\n",
    "show_video()"
   ]
  }
 ],
 "metadata": {
  "colab": {
   "collapsed_sections": [],
   "name": "RL_Mid-2022.ipynb",
   "provenance": []
  },
  "kernelspec": {
   "display_name": "Python 3 (ipykernel)",
   "language": "python",
   "name": "python3"
  },
  "language_info": {
   "codemirror_mode": {
    "name": "ipython",
    "version": 3
   },
   "file_extension": ".py",
   "mimetype": "text/x-python",
   "name": "python",
   "nbconvert_exporter": "python",
   "pygments_lexer": "ipython3",
   "version": "3.9.7"
  }
 },
 "nbformat": 4,
 "nbformat_minor": 4
}
